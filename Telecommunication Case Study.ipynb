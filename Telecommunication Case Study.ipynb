{
 "cells": [
  {
   "cell_type": "markdown",
   "id": "4f67d635-b60b-45e8-8590-15da7c75dab7",
   "metadata": {},
   "source": [
    "## Telecommunication Case Study"
   ]
  },
  {
   "cell_type": "markdown",
   "id": "8d52d90a-ac22-4dbd-887a-796e331bdded",
   "metadata": {
    "tags": []
   },
   "source": [
    "## Business Understanding\n",
    "\n",
    "    The telecommunications sector has become one of the main industries in developed countries. The technical progress and the increasing number of operators raised the level of competition. Companies are working hard to survive in this competitive market depending on multiple strategies. Three main strategies have been proposed to generate more revenues: \n",
    "1. Acquire new customers \n",
    "2. Upsell the existing customers\n",
    "3. Increase the retention period of customers \n",
    "However, comparing these strategies taking the value of return on investment (RoI) of each into account has shown that the third strategy is the most profitable strategy, proving that retaining an existing customer costs much lower than acquiring a new one, in addition to being considered much easier than the upselling strategy. To apply the third strategy, companies have to decrease the potential of customer’s churn, known as \"the customer movement from one provider to another\".\n",
    "\n",
    "  Customer churn is a considerable concern in service sectors with high competitive services. On the other hand, predicting the customers who are likely to leave the company will represent a potentially large additional revenue source if it is done in the early phase.\n",
    "\n",
    "Many research confirmed that machine learning technology is highly efficient to predict this situation. This technique is applied through learning from previous data.\n"
   ]
  },
  {
   "cell_type": "code",
   "execution_count": 17,
   "id": "84e32a18-3e9f-4ed0-9a9a-c25398db6053",
   "metadata": {
    "tags": []
   },
   "outputs": [],
   "source": [
    "import pandas as pd\n",
    "import numpy as np"
   ]
  },
  {
   "cell_type": "markdown",
   "id": "b8730713-60e6-497a-b589-d0b1c7612211",
   "metadata": {},
   "source": [
    "## Step 1: Load the data and Perform the Basic EDA"
   ]
  },
  {
   "cell_type": "code",
   "execution_count": 18,
   "id": "b1e0b55c-87e3-40ed-87b2-2582f8a4ffc8",
   "metadata": {
    "tags": []
   },
   "outputs": [],
   "source": [
    "df = pd.read_csv(\"churn_dataset.csv\")"
   ]
  },
  {
   "cell_type": "code",
   "execution_count": 19,
   "id": "7d8004c4-9481-4188-9e8e-539fcee04856",
   "metadata": {
    "tags": []
   },
   "outputs": [
    {
     "name": "stdout",
     "output_type": "stream",
     "text": [
      "   customerID  gender  SeniorCitizen Partner Dependents  tenure PhoneService  \\\n",
      "0  7590-VHVEG  Female              0     Yes         No       1           No   \n",
      "1  5575-GNVDE    Male              0      No         No      34          Yes   \n",
      "2  3668-QPYBK    Male              0      No         No       2          Yes   \n",
      "3  7795-CFOCW    Male              0      No         No      45           No   \n",
      "4  9237-HQITU  Female              0      No         No       2          Yes   \n",
      "\n",
      "      MultipleLines InternetService OnlineSecurity  ... DeviceProtection  \\\n",
      "0  No phone service             DSL             No  ...               No   \n",
      "1                No             DSL            Yes  ...              Yes   \n",
      "2                No             DSL            Yes  ...               No   \n",
      "3  No phone service             DSL            Yes  ...              Yes   \n",
      "4                No     Fiber optic             No  ...               No   \n",
      "\n",
      "  TechSupport StreamingTV StreamingMovies        Contract PaperlessBilling  \\\n",
      "0          No          No              No  Month-to-month              Yes   \n",
      "1          No          No              No        One year               No   \n",
      "2          No          No              No  Month-to-month              Yes   \n",
      "3         Yes          No              No        One year               No   \n",
      "4          No          No              No  Month-to-month              Yes   \n",
      "\n",
      "               PaymentMethod MonthlyCharges  TotalCharges Churn  \n",
      "0           Electronic check          29.85         29.85    No  \n",
      "1               Mailed check          56.95        1889.5    No  \n",
      "2               Mailed check          53.85        108.15   Yes  \n",
      "3  Bank transfer (automatic)          42.30       1840.75    No  \n",
      "4           Electronic check          70.70        151.65   Yes  \n",
      "\n",
      "[5 rows x 21 columns]\n",
      "customerID          0\n",
      "gender              0\n",
      "SeniorCitizen       0\n",
      "Partner             0\n",
      "Dependents          0\n",
      "tenure              0\n",
      "PhoneService        0\n",
      "MultipleLines       0\n",
      "InternetService     0\n",
      "OnlineSecurity      0\n",
      "OnlineBackup        0\n",
      "DeviceProtection    0\n",
      "TechSupport         0\n",
      "StreamingTV         0\n",
      "StreamingMovies     0\n",
      "Contract            0\n",
      "PaperlessBilling    0\n",
      "PaymentMethod       0\n",
      "MonthlyCharges      0\n",
      "TotalCharges        0\n",
      "Churn               0\n",
      "dtype: int64\n",
      "       SeniorCitizen       tenure  MonthlyCharges\n",
      "count    7043.000000  7043.000000     7043.000000\n",
      "mean        0.162147    32.371149       64.761692\n",
      "std         0.368612    24.559481       30.090047\n",
      "min         0.000000     0.000000       18.250000\n",
      "25%         0.000000     9.000000       35.500000\n",
      "50%         0.000000    29.000000       70.350000\n",
      "75%         0.000000    55.000000       89.850000\n",
      "max         1.000000    72.000000      118.750000\n"
     ]
    }
   ],
   "source": [
    "# Display the first few rows of the dataset\n",
    "print(df.head())\n",
    "\n",
    "# Check for missing values\n",
    "print(df.isnull().sum())\n",
    "\n",
    "# Summary statistics\n",
    "print(df.describe())"
   ]
  },
  {
   "cell_type": "markdown",
   "id": "aa9bab7f-ed48-4574-bc60-fb9227cc5803",
   "metadata": {},
   "source": [
    "##  Step 2: Documentation"
   ]
  },
  {
   "cell_type": "code",
   "execution_count": 20,
   "id": "1c8a43c6-ec07-42ee-afa3-15e95a9b38b6",
   "metadata": {
    "tags": []
   },
   "outputs": [],
   "source": [
    "# Input and Output/Target Variables\n",
    "X = df.drop(columns=['Churn'])  # Assuming 'Churn' is the target variable\n",
    "y = df['Churn']"
   ]
  },
  {
   "cell_type": "markdown",
   "id": "fb6c60bd-cd7b-450f-a527-4eecb36ef73f",
   "metadata": {},
   "source": [
    "# Type of ML Task: Classification\n",
    "\n",
    "# Evaluation Metric: Accuracy\n"
   ]
  },
  {
   "cell_type": "markdown",
   "id": "f97065a8-a102-442a-b5ed-6d0d2a50c915",
   "metadata": {},
   "source": [
    "## Step 3: Splitting the Data Into Train and Test"
   ]
  },
  {
   "cell_type": "code",
   "execution_count": 21,
   "id": "6133e47f-78ca-4ec5-a0ac-51ee98520b0b",
   "metadata": {},
   "outputs": [
    {
     "name": "stdout",
     "output_type": "stream",
     "text": [
      "Training set shape: (5282, 21)\n",
      "Testing set shape: (1761, 21)\n"
     ]
    }
   ],
   "source": [
    "from sklearn.model_selection import train_test_split\n",
    "\n",
    "# Splitting the dataset into training and testing sets\n",
    "train_df, test_df = train_test_split(df, test_size=0.25, random_state=42)\n",
    "\n",
    "# Displaying the shape of the train and test datasets\n",
    "print('Training set shape:', train_df.shape)\n",
    "print('Testing set shape:', test_df.shape)"
   ]
  },
  {
   "cell_type": "markdown",
   "id": "fa58e0c8-74bb-4b45-ac1e-415f81f683a0",
   "metadata": {},
   "source": [
    "## Step 4: Data Preparation on Train Data"
   ]
  },
  {
   "cell_type": "code",
   "execution_count": 22,
   "id": "543028c2-90b5-4ac9-b9d3-1ffa61ce865e",
   "metadata": {
    "tags": []
   },
   "outputs": [
    {
     "name": "stdout",
     "output_type": "stream",
     "text": [
      "Data preparation steps completed for training data.\n"
     ]
    }
   ],
   "source": [
    "from sklearn.preprocessing import StandardScaler, OneHotEncoder\n",
    "from sklearn.compose import ColumnTransformer\n",
    "from sklearn.pipeline import Pipeline\n",
    "from sklearn.preprocessing import LabelEncoder\n",
    "\n",
    "# Identifying numerical and categorical columns\n",
    "numerical_cols = train_df.select_dtypes(include=['int64', 'float64']).columns.tolist()\n",
    "categorical_cols = train_df.select_dtypes(include=['object']).columns.tolist()\n",
    "categorical_cols.remove('Churn')  # Removing target variable from categorical columns\n",
    "\n",
    "# Creating transformers for numerical and categorical columns\n",
    "numerical_transformer = StandardScaler()\n",
    "categorical_transformer = OneHotEncoder(handle_unknown='ignore')\n",
    "\n",
    "# Creating preprocessing pipelines for both types of data\n",
    "preprocessor = ColumnTransformer(\n",
    "    transformers=[\n",
    "        ('num', numerical_transformer, numerical_cols),\n",
    "        ('cat', categorical_transformer, categorical_cols)\n",
    "    ])\n",
    "\n",
    "# Fitting the transformer on the training data\n",
    "preprocessor.fit(train_df.drop('Churn', axis=1))\n",
    "\n",
    "print('Data preparation steps completed for training data.')"
   ]
  },
  {
   "cell_type": "markdown",
   "id": "210e09f9-dffd-43d2-92b5-fe4526813901",
   "metadata": {},
   "source": [
    "## Step 5: Data Preparation on Test Data"
   ]
  },
  {
   "cell_type": "code",
   "execution_count": 23,
   "id": "c32b9e25-ad70-477f-a1e9-7f51cb0d214f",
   "metadata": {
    "tags": []
   },
   "outputs": [
    {
     "name": "stdout",
     "output_type": "stream",
     "text": [
      "Data preparation steps completed for test data.\n"
     ]
    }
   ],
   "source": [
    "# Transforming the test data using the fitted preprocessor\n",
    "X_train_prepared = preprocessor.transform(train_df.drop('Churn', axis=1))\n",
    "X_test_prepared = preprocessor.transform(test_df.drop('Churn', axis=1))\n",
    "\n",
    "print('Data preparation steps completed for test data.')"
   ]
  },
  {
   "cell_type": "markdown",
   "id": "e448d4bf-16bc-498a-8fca-8c573e64f4ff",
   "metadata": {},
   "source": [
    "## Step 6: Model Training Phase"
   ]
  },
  {
   "cell_type": "code",
   "execution_count": 24,
   "id": "94cbff77-6798-4978-a7fd-e19e7df3ac5c",
   "metadata": {},
   "outputs": [
    {
     "name": "stdout",
     "output_type": "stream",
     "text": [
      "All models have been trained.\n"
     ]
    }
   ],
   "source": [
    "from sklearn.neighbors import KNeighborsClassifier\n",
    "from sklearn.linear_model import LogisticRegression\n",
    "from sklearn.svm import SVC\n",
    "from sklearn.tree import DecisionTreeClassifier\n",
    "from sklearn.ensemble import RandomForestClassifier\n",
    "from sklearn.metrics import accuracy_score\n",
    "\n",
    "# Preparing the target variable\n",
    "y_train = train_df['Churn']\n",
    "y_test = test_df['Churn']\n",
    "\n",
    "# Initializing models\n",
    "knn = KNeighborsClassifier()\n",
    "log_reg = LogisticRegression()\n",
    "svm = SVC()\n",
    "decision_tree = DecisionTreeClassifier()\n",
    "random_forest = RandomForestClassifier()\n",
    "\n",
    "# Training models\n",
    "knn.fit(X_train_prepared, y_train)\n",
    "log_reg.fit(X_train_prepared, y_train)\n",
    "svm.fit(X_train_prepared, y_train)\n",
    "decision_tree.fit(X_train_prepared, y_train)\n",
    "random_forest.fit(X_train_prepared, y_train)\n",
    "\n",
    "print('All models have been trained.')"
   ]
  },
  {
   "cell_type": "code",
   "execution_count": 25,
   "id": "2c139103-37dc-4c03-b1d4-8d8c56470620",
   "metadata": {
    "tags": []
   },
   "outputs": [],
   "source": [
    "from sklearn.impute import SimpleImputer\n",
    "\n",
    "# Create a SimpleImputer to replace missing values with the mean\n",
    "imputer = SimpleImputer(strategy='mean')\n",
    "\n",
    "# Fit the imputer on the training data\n",
    "imputer.fit(X_train_prepared)\n",
    "\n",
    "# Transform both the training and test data\n",
    "X_train_prepared = imputer.transform(X_train_prepared)\n",
    "X_test_prepared = imputer.transform(X_test_prepared)"
   ]
  },
  {
   "cell_type": "code",
   "execution_count": 26,
   "id": "9232194f-3997-4fd8-89df-a511b1240472",
   "metadata": {
    "tags": []
   },
   "outputs": [
    {
     "name": "stdout",
     "output_type": "stream",
     "text": [
      "All models have been trained.\n"
     ]
    }
   ],
   "source": [
    "print('All models have been trained.')"
   ]
  },
  {
   "cell_type": "markdown",
   "id": "cffd0a7b-6996-4ac1-a9c2-50785a2ba6fc",
   "metadata": {},
   "source": [
    "## Step 7: Predicting and evaluating the each model"
   ]
  },
  {
   "cell_type": "code",
   "execution_count": 27,
   "id": "b59d2bbb-283c-44dd-b16d-fc4174f3e98e",
   "metadata": {
    "tags": []
   },
   "outputs": [
    {
     "name": "stdout",
     "output_type": "stream",
     "text": [
      "Accuracy scores for each model:\n",
      "KNN: 0.7654741624077229\n",
      "Logistic Regression: 0.8143100511073254\n",
      "SVM: 0.8086314593980692\n",
      "Decision Tree: 0.7694491766042022\n",
      "Random Forest: 0.7859170925610448\n"
     ]
    }
   ],
   "source": [
    "# Fitting the KNeighborsClassifier\n",
    "knn.fit(X_train_prepared, y_train)\n",
    "\n",
    "# Calculating accuracy scores\n",
    "knn_accuracy = accuracy_score(y_test, knn.predict(X_test_prepared))\n",
    "log_reg_accuracy = accuracy_score(y_test, log_reg.predict(X_test_prepared))\n",
    "svm_accuracy = accuracy_score(y_test, svm.predict(X_test_prepared))\n",
    "decision_tree_accuracy = accuracy_score(y_test, decision_tree.predict(X_test_prepared))\n",
    "random_forest_accuracy = accuracy_score(y_test, random_forest.predict(X_test_prepared))\n",
    "\n",
    "print('Accuracy scores for each model:')\n",
    "print('KNN:', knn_accuracy)\n",
    "print('Logistic Regression:', log_reg_accuracy)\n",
    "print('SVM:', svm_accuracy)\n",
    "print('Decision Tree:', decision_tree_accuracy)\n",
    "print('Random Forest:', random_forest_accuracy)"
   ]
  },
  {
   "cell_type": "markdown",
   "id": "fa266930-26b9-4282-bdc8-3772dd7785dd",
   "metadata": {},
   "source": [
    "# Step 8: Model Comparison and Conclusion"
   ]
  },
  {
   "cell_type": "code",
   "execution_count": 28,
   "id": "f999431c-f46d-408f-9558-846906e81c47",
   "metadata": {
    "tags": []
   },
   "outputs": [
    {
     "data": {
      "image/png": "[encoded data removed]",
      "text/plain": [
       "<Figure size 1000x600 with 1 Axes>"
      ]
     },
     "metadata": {},
     "output_type": "display_data"
    },
    {
     "name": "stdout",
     "output_type": "stream",
     "text": [
      "Based on the accuracies achieved, the best algorithm for Churn Prediction is Logistic Regression.\n"
     ]
    }
   ],
   "source": [
    "# prompt: Display a plot which shows all the algorithms applied along with the accuracies achieved. Write your conclusion on the best algorithm for Churn Prediction and add colours to the graph\n",
    "\n",
    "import matplotlib.pyplot as plt\n",
    "# Model names and corresponding accuracies\n",
    "model_names = ['KNN', 'Logistic Regression', 'SVM', 'Decision Tree', 'Random Forest']\n",
    "accuracies = [knn_accuracy, log_reg_accuracy, svm_accuracy, decision_tree_accuracy, random_forest_accuracy]\n",
    "\n",
    "# Creating the plot\n",
    "plt.figure(figsize=(10, 6), facecolor='white')\n",
    "plt.bar(model_names, accuracies, color=['red', 'blue', 'green', 'gold', 'orange'])\n",
    "plt.xlabel('Models')\n",
    "plt.ylabel('Accuracy')\n",
    "plt.title('Comparison of Model Accuracies for Churn Prediction')\n",
    "plt.ylim([0.7, 0.85])  # Adjust y-axis to better visualize differences\n",
    "plt.show()\n",
    "\n",
    "# Conclusion based on the results\n",
    "best_model_index = accuracies.index(max(accuracies))\n",
    "best_model_name = model_names[best_model_index]\n",
    "\n",
    "print(f\"Based on the accuracies achieved, the best algorithm for Churn Prediction is {best_model_name}.\")\n"
   ]
  },
  {
   "cell_type": "code",
   "execution_count": null,
   "id": "1cde31fc-235e-4942-9fd2-2778bdaf115e",
   "metadata": {},
   "outputs": [],
   "source": []
  }
 ],
 "metadata": {
  "kernelspec": {
   "display_name": "Python 3 (ipykernel)",
   "language": "python",
   "name": "python3"
  },
  "language_info": {
   "codemirror_mode": {
    "name": "ipython",
    "version": 3
   },
   "file_extension": ".py",
   "mimetype": "text/x-python",
   "name": "python",
   "nbconvert_exporter": "python",
   "pygments_lexer": "ipython3",
   "version": "3.11.5"
  }
 },
 "nbformat": 4,
 "nbformat_minor": 5
}
